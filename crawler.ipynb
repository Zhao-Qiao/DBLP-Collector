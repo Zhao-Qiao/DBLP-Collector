{
 "cells": [
  {
   "cell_type": "code",
   "execution_count": 19,
   "metadata": {},
   "outputs": [],
   "source": [
    "import requests\n",
    "from bs4 import BeautifulSoup\n",
    "import os\n",
    "\n",
    "\n",
    "# 创建一个目录来保存下载的论文\n",
    "output_directory = \"papers\"\n",
    "os.makedirs(output_directory, exist_ok=True)\n",
    "\n",
    "# 构建搜索URL\n",
    "# search_url = f\"https://dblp.org/search?q={search_query}&c={conference}\"\n",
    "search_url = \"https://dblp.org/search?q=recommender%20LLM%20streamid%3Ajournals%2Fcorr%3A\"\n",
    "\n",
    "# 发送HTTP请求获取搜索结果页面\n",
    "response = requests.get(search_url)\n"
   ]
  },
  {
   "cell_type": "code",
   "execution_count": 21,
   "metadata": {},
   "outputs": [],
   "source": [
    "\n",
    "# 检查响应状态码\n",
    "paper_list = [ ]\n",
    "if response.status_code == 200:\n",
    "    soup = BeautifulSoup(response.text, \"html.parser\")\n",
    "    # find by id\n",
    "    soup.\n"
   ]
  }
 ],
 "metadata": {
  "kernelspec": {
   "display_name": "scrapy",
   "language": "python",
   "name": "python3"
  },
  "language_info": {
   "codemirror_mode": {
    "name": "ipython",
    "version": 3
   },
   "file_extension": ".py",
   "mimetype": "text/x-python",
   "name": "python",
   "nbconvert_exporter": "python",
   "pygments_lexer": "ipython3",
   "version": "3.12.0"
  }
 },
 "nbformat": 4,
 "nbformat_minor": 2
}
